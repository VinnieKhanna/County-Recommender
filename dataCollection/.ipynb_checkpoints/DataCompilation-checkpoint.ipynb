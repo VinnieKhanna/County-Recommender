{
 "cells": [
  {
   "cell_type": "code",
   "execution_count": 7,
   "id": "bcb60e2f",
   "metadata": {},
   "outputs": [],
   "source": [
    "import pandas as pd\n",
    "import numpy as np"
   ]
  },
  {
   "cell_type": "code",
   "execution_count": 8,
   "id": "6b87eb58",
   "metadata": {},
   "outputs": [],
   "source": [
    "education = pd.read_csv(\"Education.csv\")\n",
    "education = education[[\"State\", \"Area name\", \"Percent of adults with less than a high school diploma, 2016-20\", \"Percent of adults with a high school diploma only, 2016-20\", \"Percent of adults completing some college or associate's degree, 2016-20\", \"Percent of adults with a bachelor's degree or higher 2016-20\"]]\n",
    "education = education.rename({'Area name': 'Area_name'}, axis=1)\n",
    "\n",
    "poverty = pd.read_csv(\"PovertyEstimates.csv\")\n",
    "poverty = poverty[[\"Stabr\", \"Area_name\", \"PCTPOVALL_2020\"]]\n",
    "poverty = poverty.rename({'Stabr': 'State'}, axis=1)\n",
    "\n",
    "population = pd.read_csv(\"PopulationEstimates.csv\")\n",
    "population = population[[\"State\", \"Area name\", \"Population 2020\", \"Population 2021\"]]\n",
    "population = population.rename({'Area name': 'Area_name'}, axis=1)\n",
    "\n",
    "unemployment = pd.read_csv(\"Unemployment.csv\")\n",
    "unemployment = unemployment[[\"State\", \"Area_name\", \"Median_Household_Income_2020\", \"Med_HH_Income_Percent_of_State_Total_2020\", \"Unemployment_rate_2020\"]]\n",
    "unemployment[\"Area_name\"]= unemployment[\"Area_name\"].str.split(\",\", n = 1, expand = False)\n",
    "unemployment[\"Area_name\"] = unemployment[\"Area_name\"].str[0]\n",
    "\n",
    "precipitation = pd.read_csv(\"110-pcp-202210-1.csv\", on_bad_lines='skip')\n",
    "precipitation['State'] = precipitation['Location ID'].str.slice(0, 2)\n",
    "precipitation = precipitation[[\"State\", \"Location\", \"1901-2000 Mean\"]]\n",
    "precipitation = precipitation.rename({'1901-2000 Mean': 'Average Precipitation', \"Location\": \"Area_name\"}, axis=1)\n",
    "\n",
    "temperature = pd.read_csv(\"110-tavg-202210-1.csv\", on_bad_lines='skip')\n",
    "temperature['State'] = temperature['Location ID'].str.slice(0, 2)\n",
    "temperature = temperature[[\"State\", \"Location\", \"1901-2000 Mean\"]]\n",
    "temperature = temperature.rename({'1901-2000 Mean': 'Average Temperature', \"Location\": \"Area_name\"}, axis=1)\n",
    "\n",
    "cost_of_living = pd.read_csv(\"cost-of-living-database.csv\")\n",
    "cost_of_living[\"rent\"] = cost_of_living[\"expense.rent\"].str.replace(',' , \"\").astype(int)\n",
    "cost_of_living = cost_of_living[cost_of_living['countyortownName'] != \"state.average\"]\n",
    "cost_of_living = cost_of_living.groupby(['stateAbbrev', 'countyortownName'])['rent'].mean()\n",
    "\n",
    "transportation = pd.read_csv(\"teleportation.csv\")\n",
    "transportation[\"transportation\"] = transportation[\"expense.transportation\"].str.replace(',' , \"\").astype(int)\n",
    "transportation = transportation[transportation['countyortownName'] != \"state.average\"]\n",
    "transportation = transportation.groupby(['stateAbbrev', 'countyortownName'])['transportation'].mean()\n"
   ]
  },
  {
   "cell_type": "code",
   "execution_count": 9,
   "id": "d19c5c39",
   "metadata": {},
   "outputs": [],
   "source": [
    "test = pd.merge(education, poverty,  how='left', left_on=['State','Area_name'], right_on = ['State','Area_name'])\n",
    "\n",
    "test2 = pd.merge(test, population, how='left', left_on=['State','Area_name'], right_on = ['State','Area_name'])\n",
    "\n",
    "test3 = pd.merge(test2, unemployment, how='left', left_on=['State','Area_name'], right_on = ['State','Area_name'])\n",
    "\n",
    "test4 = pd.merge(test3, precipitation, how='left', left_on=['State','Area_name'], right_on = ['State','Area_name'])\n",
    "\n",
    "test5 = pd.merge(test4, temperature, how='left', left_on=['State','Area_name'], right_on = ['State','Area_name'])\n",
    "\n",
    "test6 = pd.merge(test5, cost_of_living, how='left', left_on=['State','Area_name'], right_on = ['stateAbbrev','countyortownName'])\n",
    "\n",
    "final_csv = pd.merge(test6, transportation, how='left', left_on=['State','Area_name'], right_on = ['stateAbbrev','countyortownName'])\n",
    "\n",
    "final_csv = final_csv.dropna(how='all', subset=['Average Precipitation', 'Average Temperature', 'rent', 'transportation'])\n",
    "\n",
    "final_csv.to_csv(\"data.csv\")"
   ]
  },
  {
   "cell_type": "code",
   "execution_count": 10,
   "id": "c7167115",
   "metadata": {},
   "outputs": [
    {
     "name": "stdout",
     "output_type": "stream",
     "text": [
      "51\n"
     ]
    }
   ],
   "source": [
    "df = final_csv.drop_duplicates(subset = [\"State\"])\n",
    "print(df.shape[0])"
   ]
  }
 ],
 "metadata": {
  "kernelspec": {
   "display_name": "Python 3 (ipykernel)",
   "language": "python",
   "name": "python3"
  },
  "language_info": {
   "codemirror_mode": {
    "name": "ipython",
    "version": 3
   },
   "file_extension": ".py",
   "mimetype": "text/x-python",
   "name": "python",
   "nbconvert_exporter": "python",
   "pygments_lexer": "ipython3",
   "version": "3.9.12"
  },
  "vscode": {
   "interpreter": {
    "hash": "403fdce3d98f1934ea610e455921c6c2c3ee0618b555a370343210efb4fc9b36"
   }
  }
 },
 "nbformat": 4,
 "nbformat_minor": 5
}
